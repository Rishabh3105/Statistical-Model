{
 "cells": [
  {
   "cell_type": "markdown",
   "id": "0f4ca417",
   "metadata": {},
   "source": [
    "## A) Introduction\n",
    "###  I have collected the data for number of motor vehicles registered and total number of road accidents each year for            10 different states in India (Karnataka, Tamil Nadu, Maharashtra, Gujarat, Madhya Pradesh, West Bengal, Uttar Pradesh, Bihar, Rajasthan, Jharkhand)\n",
    "### The data is collected for five different years from 2015-2019\n",
    "### My hypothesis says that the number of road accidents increase with the increase in number of motor vehicles. I will check this with the help of the data collected\n"
   ]
  },
  {
   "cell_type": "markdown",
   "id": "5b3806f2",
   "metadata": {},
   "source": [
    "## B) Data Source- The Data set is collected from 2 different sources.\n",
    "### 1. Number of registered vehicles each year for 10 different states from the year 2015-2019 is taken from\n",
    "### https://www.statista.com/statistics/1023507/india-registered-vehicles-number/\n",
    "### 2. The total number of road accidents in these 10 states every year from 2015-2019 is taken from\n",
    "### https://morth.nic.in/sites/default/files/Road_Accidednts.pdf"
   ]
  },
  {
   "cell_type": "markdown",
   "id": "8253fa75",
   "metadata": {},
   "source": [
    "### From the above 2 sources i have prepared my table and created my csv file named (\"Stats.csv\")"
   ]
  },
  {
   "cell_type": "markdown",
   "id": "b18fac1b",
   "metadata": {},
   "source": [
    "## C) Analysis\n",
    "\n",
    "### Importing the libraries\n"
   ]
  },
  {
   "cell_type": "code",
   "execution_count": 3,
   "id": "5bb82187",
   "metadata": {},
   "outputs": [],
   "source": [
    "import pandas as pd\n",
    "import numpy as np\n",
    "import matplotlib.pyplot as plt\n",
    "import seaborn as sns\n",
    "%matplotlib inline"
   ]
  },
  {
   "cell_type": "markdown",
   "id": "98e03777",
   "metadata": {},
   "source": [
    "### Reading the Dataset\n",
    "\n"
   ]
  },
  {
   "cell_type": "code",
   "execution_count": 4,
   "id": "2eee9c53",
   "metadata": {},
   "outputs": [],
   "source": [
    "df = pd.read_csv(\"Stats.csv\")"
   ]
  },
  {
   "cell_type": "code",
   "execution_count": 5,
   "id": "c037cce5",
   "metadata": {},
   "outputs": [
    {
     "data": {
      "text/plain": [
       "Index(['Sr.No.', 'State', 'Year', 'No of registered Vehicles(mn)', 'Accidents',\n",
       "       'Unnamed: 5', 'Unnamed: 6', 'Unnamed: 7', 'Unnamed: 8'],\n",
       "      dtype='object')"
      ]
     },
     "execution_count": 5,
     "metadata": {},
     "output_type": "execute_result"
    }
   ],
   "source": [
    "df.columns"
   ]
  },
  {
   "cell_type": "code",
   "execution_count": 6,
   "id": "d7f37300",
   "metadata": {},
   "outputs": [],
   "source": [
    "df=df[[ 'State', 'Year', 'No of registered Vehicles(mn)', 'Accidents']]"
   ]
  },
  {
   "cell_type": "code",
   "execution_count": 7,
   "id": "df92775d",
   "metadata": {},
   "outputs": [
    {
     "data": {
      "text/html": [
       "<div>\n",
       "<style scoped>\n",
       "    .dataframe tbody tr th:only-of-type {\n",
       "        vertical-align: middle;\n",
       "    }\n",
       "\n",
       "    .dataframe tbody tr th {\n",
       "        vertical-align: top;\n",
       "    }\n",
       "\n",
       "    .dataframe thead th {\n",
       "        text-align: right;\n",
       "    }\n",
       "</style>\n",
       "<table border=\"1\" class=\"dataframe\">\n",
       "  <thead>\n",
       "    <tr style=\"text-align: right;\">\n",
       "      <th></th>\n",
       "      <th>State</th>\n",
       "      <th>Year</th>\n",
       "      <th>No of registered Vehicles(mn)</th>\n",
       "      <th>Accidents</th>\n",
       "    </tr>\n",
       "  </thead>\n",
       "  <tbody>\n",
       "    <tr>\n",
       "      <th>0</th>\n",
       "      <td>Karnataka</td>\n",
       "      <td>2015</td>\n",
       "      <td>14.79</td>\n",
       "      <td>44,011</td>\n",
       "    </tr>\n",
       "    <tr>\n",
       "      <th>1</th>\n",
       "      <td>Tamil Nadu</td>\n",
       "      <td>2015</td>\n",
       "      <td>22.52</td>\n",
       "      <td>69,059</td>\n",
       "    </tr>\n",
       "    <tr>\n",
       "      <th>2</th>\n",
       "      <td>Maharashtra</td>\n",
       "      <td>2015</td>\n",
       "      <td>25.56</td>\n",
       "      <td>63,805</td>\n",
       "    </tr>\n",
       "    <tr>\n",
       "      <th>3</th>\n",
       "      <td>Gujarat</td>\n",
       "      <td>2015</td>\n",
       "      <td>18.72</td>\n",
       "      <td>23,183</td>\n",
       "    </tr>\n",
       "    <tr>\n",
       "      <th>4</th>\n",
       "      <td>Madhya Pradesh</td>\n",
       "      <td>2015</td>\n",
       "      <td>11.14</td>\n",
       "      <td>54,947</td>\n",
       "    </tr>\n",
       "    <tr>\n",
       "      <th>5</th>\n",
       "      <td>West Bengal</td>\n",
       "      <td>2015</td>\n",
       "      <td>7.40</td>\n",
       "      <td>13,208</td>\n",
       "    </tr>\n",
       "    <tr>\n",
       "      <th>6</th>\n",
       "      <td>Uttar Pradesh</td>\n",
       "      <td>2015</td>\n",
       "      <td>21.64</td>\n",
       "      <td>32,385</td>\n",
       "    </tr>\n",
       "    <tr>\n",
       "      <th>7</th>\n",
       "      <td>Bihar</td>\n",
       "      <td>2015</td>\n",
       "      <td>4.78</td>\n",
       "      <td>9,555</td>\n",
       "    </tr>\n",
       "    <tr>\n",
       "      <th>8</th>\n",
       "      <td>Rajasthan</td>\n",
       "      <td>2015</td>\n",
       "      <td>12.38</td>\n",
       "      <td>24,072</td>\n",
       "    </tr>\n",
       "    <tr>\n",
       "      <th>9</th>\n",
       "      <td>Jharkhand</td>\n",
       "      <td>2015</td>\n",
       "      <td>2.07</td>\n",
       "      <td>5,162</td>\n",
       "    </tr>\n",
       "    <tr>\n",
       "      <th>10</th>\n",
       "      <td>Karnataka</td>\n",
       "      <td>2016</td>\n",
       "      <td>16.29</td>\n",
       "      <td>44,403</td>\n",
       "    </tr>\n",
       "    <tr>\n",
       "      <th>11</th>\n",
       "      <td>Tamil Nadu</td>\n",
       "      <td>2016</td>\n",
       "      <td>24.20</td>\n",
       "      <td>71,431</td>\n",
       "    </tr>\n",
       "    <tr>\n",
       "      <th>12</th>\n",
       "      <td>Maharashtra</td>\n",
       "      <td>2016</td>\n",
       "      <td>27.87</td>\n",
       "      <td>39,878</td>\n",
       "    </tr>\n",
       "    <tr>\n",
       "      <th>13</th>\n",
       "      <td>Gujarat</td>\n",
       "      <td>2016</td>\n",
       "      <td>20.36</td>\n",
       "      <td>21,859</td>\n",
       "    </tr>\n",
       "    <tr>\n",
       "      <th>14</th>\n",
       "      <td>Madhya Pradesh</td>\n",
       "      <td>2016</td>\n",
       "      <td>11.14</td>\n",
       "      <td>53,972</td>\n",
       "    </tr>\n",
       "    <tr>\n",
       "      <th>15</th>\n",
       "      <td>West Bengal</td>\n",
       "      <td>2016</td>\n",
       "      <td>7.45</td>\n",
       "      <td>13,580</td>\n",
       "    </tr>\n",
       "    <tr>\n",
       "      <th>16</th>\n",
       "      <td>Uttar Pradesh</td>\n",
       "      <td>2016</td>\n",
       "      <td>23.94</td>\n",
       "      <td>35,612</td>\n",
       "    </tr>\n",
       "    <tr>\n",
       "      <th>17</th>\n",
       "      <td>Bihar</td>\n",
       "      <td>2016</td>\n",
       "      <td>5.48</td>\n",
       "      <td>8,222</td>\n",
       "    </tr>\n",
       "    <tr>\n",
       "      <th>18</th>\n",
       "      <td>Rajasthan</td>\n",
       "      <td>2016</td>\n",
       "      <td>13.63</td>\n",
       "      <td>23,066</td>\n",
       "    </tr>\n",
       "    <tr>\n",
       "      <th>19</th>\n",
       "      <td>Jharkhand</td>\n",
       "      <td>2016</td>\n",
       "      <td>2.48</td>\n",
       "      <td>4,932</td>\n",
       "    </tr>\n",
       "    <tr>\n",
       "      <th>20</th>\n",
       "      <td>Karnataka</td>\n",
       "      <td>2017</td>\n",
       "      <td>17.87</td>\n",
       "      <td>42,542</td>\n",
       "    </tr>\n",
       "    <tr>\n",
       "      <th>21</th>\n",
       "      <td>Tamil Nadu</td>\n",
       "      <td>2017</td>\n",
       "      <td>26.11</td>\n",
       "      <td>65,562</td>\n",
       "    </tr>\n",
       "    <tr>\n",
       "      <th>22</th>\n",
       "      <td>Maharashtra</td>\n",
       "      <td>2017</td>\n",
       "      <td>30.22</td>\n",
       "      <td>35,853</td>\n",
       "    </tr>\n",
       "    <tr>\n",
       "      <th>23</th>\n",
       "      <td>Gujarat</td>\n",
       "      <td>2017</td>\n",
       "      <td>22.04</td>\n",
       "      <td>19,081</td>\n",
       "    </tr>\n",
       "    <tr>\n",
       "      <th>24</th>\n",
       "      <td>Madhya Pradesh</td>\n",
       "      <td>2017</td>\n",
       "      <td>13.20</td>\n",
       "      <td>53,399</td>\n",
       "    </tr>\n",
       "    <tr>\n",
       "      <th>25</th>\n",
       "      <td>West Bengal</td>\n",
       "      <td>2017</td>\n",
       "      <td>7.47</td>\n",
       "      <td>11,631</td>\n",
       "    </tr>\n",
       "    <tr>\n",
       "      <th>26</th>\n",
       "      <td>Uttar Pradesh</td>\n",
       "      <td>2017</td>\n",
       "      <td>26.27</td>\n",
       "      <td>38,783</td>\n",
       "    </tr>\n",
       "    <tr>\n",
       "      <th>27</th>\n",
       "      <td>Bihar</td>\n",
       "      <td>2017</td>\n",
       "      <td>6.25</td>\n",
       "      <td>8,855</td>\n",
       "    </tr>\n",
       "    <tr>\n",
       "      <th>28</th>\n",
       "      <td>Rajasthan</td>\n",
       "      <td>2017</td>\n",
       "      <td>14.90</td>\n",
       "      <td>22,112</td>\n",
       "    </tr>\n",
       "    <tr>\n",
       "      <th>29</th>\n",
       "      <td>Jharkhand</td>\n",
       "      <td>2017</td>\n",
       "      <td>3.29</td>\n",
       "      <td>5,198</td>\n",
       "    </tr>\n",
       "    <tr>\n",
       "      <th>30</th>\n",
       "      <td>Karnataka</td>\n",
       "      <td>2018</td>\n",
       "      <td>19.38</td>\n",
       "      <td>41,707</td>\n",
       "    </tr>\n",
       "    <tr>\n",
       "      <th>31</th>\n",
       "      <td>Tamil Nadu</td>\n",
       "      <td>2018</td>\n",
       "      <td>28.04</td>\n",
       "      <td>63920</td>\n",
       "    </tr>\n",
       "    <tr>\n",
       "      <th>32</th>\n",
       "      <td>Maharashtra</td>\n",
       "      <td>2018</td>\n",
       "      <td>32.85</td>\n",
       "      <td>35,717</td>\n",
       "    </tr>\n",
       "    <tr>\n",
       "      <th>33</th>\n",
       "      <td>Gujarat</td>\n",
       "      <td>2018</td>\n",
       "      <td>23.82</td>\n",
       "      <td>18,769</td>\n",
       "    </tr>\n",
       "    <tr>\n",
       "      <th>34</th>\n",
       "      <td>Madhya Pradesh</td>\n",
       "      <td>2018</td>\n",
       "      <td>14.57</td>\n",
       "      <td>51,397</td>\n",
       "    </tr>\n",
       "    <tr>\n",
       "      <th>35</th>\n",
       "      <td>West Bengal</td>\n",
       "      <td>2018</td>\n",
       "      <td>7.50</td>\n",
       "      <td>12705</td>\n",
       "    </tr>\n",
       "    <tr>\n",
       "      <th>36</th>\n",
       "      <td>Uttar Pradesh</td>\n",
       "      <td>2018</td>\n",
       "      <td>29.40</td>\n",
       "      <td>42568</td>\n",
       "    </tr>\n",
       "    <tr>\n",
       "      <th>37</th>\n",
       "      <td>Bihar</td>\n",
       "      <td>2018</td>\n",
       "      <td>7.36</td>\n",
       "      <td>9,600</td>\n",
       "    </tr>\n",
       "    <tr>\n",
       "      <th>38</th>\n",
       "      <td>Rajasthan</td>\n",
       "      <td>2018</td>\n",
       "      <td>16.28</td>\n",
       "      <td>21743</td>\n",
       "    </tr>\n",
       "    <tr>\n",
       "      <th>39</th>\n",
       "      <td>Jharkhand</td>\n",
       "      <td>2018</td>\n",
       "      <td>3.39</td>\n",
       "      <td>5,394</td>\n",
       "    </tr>\n",
       "    <tr>\n",
       "      <th>40</th>\n",
       "      <td>Karnataka</td>\n",
       "      <td>2019</td>\n",
       "      <td>21.07</td>\n",
       "      <td>40,658</td>\n",
       "    </tr>\n",
       "    <tr>\n",
       "      <th>41</th>\n",
       "      <td>Tamil Nadu</td>\n",
       "      <td>2019</td>\n",
       "      <td>30.18</td>\n",
       "      <td>57,228</td>\n",
       "    </tr>\n",
       "    <tr>\n",
       "      <th>42</th>\n",
       "      <td>Maharashtra</td>\n",
       "      <td>2019</td>\n",
       "      <td>35.39</td>\n",
       "      <td>32,925</td>\n",
       "    </tr>\n",
       "    <tr>\n",
       "      <th>43</th>\n",
       "      <td>Gujarat</td>\n",
       "      <td>2019</td>\n",
       "      <td>25.20</td>\n",
       "      <td>17,046</td>\n",
       "    </tr>\n",
       "    <tr>\n",
       "      <th>44</th>\n",
       "      <td>Madhya Pradesh</td>\n",
       "      <td>2019</td>\n",
       "      <td>15.30</td>\n",
       "      <td>50,669</td>\n",
       "    </tr>\n",
       "    <tr>\n",
       "      <th>45</th>\n",
       "      <td>West Bengal</td>\n",
       "      <td>2019</td>\n",
       "      <td>7.52</td>\n",
       "      <td>10,158</td>\n",
       "    </tr>\n",
       "    <tr>\n",
       "      <th>46</th>\n",
       "      <td>Uttar Pradesh</td>\n",
       "      <td>2019</td>\n",
       "      <td>32.72</td>\n",
       "      <td>42,572</td>\n",
       "    </tr>\n",
       "    <tr>\n",
       "      <th>47</th>\n",
       "      <td>Bihar</td>\n",
       "      <td>2019</td>\n",
       "      <td>8.55</td>\n",
       "      <td>10,007</td>\n",
       "    </tr>\n",
       "    <tr>\n",
       "      <th>48</th>\n",
       "      <td>Rajasthan</td>\n",
       "      <td>2019</td>\n",
       "      <td>17.71</td>\n",
       "      <td>23,480</td>\n",
       "    </tr>\n",
       "    <tr>\n",
       "      <th>49</th>\n",
       "      <td>Jharkhand</td>\n",
       "      <td>2019</td>\n",
       "      <td>3.39</td>\n",
       "      <td>5,217</td>\n",
       "    </tr>\n",
       "  </tbody>\n",
       "</table>\n",
       "</div>"
      ],
      "text/plain": [
       "             State  Year  No of registered Vehicles(mn) Accidents\n",
       "0        Karnataka  2015                          14.79    44,011\n",
       "1       Tamil Nadu  2015                          22.52    69,059\n",
       "2      Maharashtra  2015                          25.56    63,805\n",
       "3          Gujarat  2015                          18.72    23,183\n",
       "4   Madhya Pradesh  2015                          11.14    54,947\n",
       "5      West Bengal  2015                           7.40    13,208\n",
       "6    Uttar Pradesh  2015                          21.64    32,385\n",
       "7            Bihar  2015                           4.78     9,555\n",
       "8        Rajasthan  2015                          12.38    24,072\n",
       "9        Jharkhand  2015                           2.07     5,162\n",
       "10       Karnataka  2016                          16.29    44,403\n",
       "11      Tamil Nadu  2016                          24.20    71,431\n",
       "12     Maharashtra  2016                          27.87    39,878\n",
       "13         Gujarat  2016                          20.36    21,859\n",
       "14  Madhya Pradesh  2016                          11.14    53,972\n",
       "15     West Bengal  2016                           7.45    13,580\n",
       "16   Uttar Pradesh  2016                          23.94    35,612\n",
       "17           Bihar  2016                           5.48     8,222\n",
       "18       Rajasthan  2016                          13.63    23,066\n",
       "19       Jharkhand  2016                           2.48     4,932\n",
       "20       Karnataka  2017                          17.87    42,542\n",
       "21      Tamil Nadu  2017                          26.11    65,562\n",
       "22     Maharashtra  2017                          30.22    35,853\n",
       "23         Gujarat  2017                          22.04    19,081\n",
       "24  Madhya Pradesh  2017                          13.20    53,399\n",
       "25     West Bengal  2017                           7.47    11,631\n",
       "26   Uttar Pradesh  2017                          26.27    38,783\n",
       "27           Bihar  2017                           6.25     8,855\n",
       "28       Rajasthan  2017                          14.90    22,112\n",
       "29       Jharkhand  2017                           3.29     5,198\n",
       "30       Karnataka  2018                          19.38    41,707\n",
       "31      Tamil Nadu  2018                          28.04     63920\n",
       "32     Maharashtra  2018                          32.85    35,717\n",
       "33         Gujarat  2018                          23.82    18,769\n",
       "34  Madhya Pradesh  2018                          14.57    51,397\n",
       "35     West Bengal  2018                           7.50     12705\n",
       "36   Uttar Pradesh  2018                          29.40     42568\n",
       "37           Bihar  2018                           7.36     9,600\n",
       "38       Rajasthan  2018                          16.28     21743\n",
       "39       Jharkhand  2018                           3.39     5,394\n",
       "40       Karnataka  2019                          21.07    40,658\n",
       "41      Tamil Nadu  2019                          30.18    57,228\n",
       "42     Maharashtra  2019                          35.39    32,925\n",
       "43         Gujarat  2019                          25.20    17,046\n",
       "44  Madhya Pradesh  2019                          15.30    50,669\n",
       "45     West Bengal  2019                           7.52    10,158\n",
       "46   Uttar Pradesh  2019                          32.72    42,572\n",
       "47           Bihar  2019                           8.55    10,007\n",
       "48       Rajasthan  2019                          17.71    23,480\n",
       "49       Jharkhand  2019                           3.39     5,217"
      ]
     },
     "execution_count": 7,
     "metadata": {},
     "output_type": "execute_result"
    }
   ],
   "source": [
    "df"
   ]
  },
  {
   "cell_type": "markdown",
   "id": "e28683ce",
   "metadata": {},
   "source": [
    "### Exploratory Data Analysis"
   ]
  },
  {
   "cell_type": "code",
   "execution_count": 8,
   "id": "b69c0475",
   "metadata": {},
   "outputs": [
    {
     "data": {
      "text/plain": [
       "State                             object\n",
       "Year                               int64\n",
       "No of registered Vehicles(mn)    float64\n",
       "Accidents                         object\n",
       "dtype: object"
      ]
     },
     "execution_count": 8,
     "metadata": {},
     "output_type": "execute_result"
    }
   ],
   "source": [
    "df.dtypes"
   ]
  },
  {
   "cell_type": "code",
   "execution_count": 9,
   "id": "e265fd57",
   "metadata": {},
   "outputs": [],
   "source": [
    "df[\"Accidents\"]=df['Accidents'].str.replace(\",\",\"\")"
   ]
  },
  {
   "cell_type": "code",
   "execution_count": 10,
   "id": "f09e7ea1",
   "metadata": {},
   "outputs": [],
   "source": [
    "df[\"Accidents\"]=df['Accidents'].astype(float)"
   ]
  },
  {
   "cell_type": "code",
   "execution_count": 11,
   "id": "53d564ce",
   "metadata": {},
   "outputs": [],
   "source": [
    "states_group=df.groupby(['State'])['Accidents'].sum()\n",
    "year_group=df.groupby(\"Year\")['Accidents'].sum()"
   ]
  },
  {
   "cell_type": "code",
   "execution_count": 14,
   "id": "4624b51d",
   "metadata": {},
   "outputs": [
    {
     "data": {
      "text/plain": [
       "<AxesSubplot:ylabel='Accidents'>"
      ]
     },
     "execution_count": 14,
     "metadata": {},
     "output_type": "execute_result"
    },
    {
     "data": {
      "image/png": "[encoded data removed]",
      "text/plain": [
       "<Figure size 432x288 with 1 Axes>"
      ]
     },
     "metadata": {},
     "output_type": "display_data"
    }
   ],
   "source": [
    "states_group.plot(kind=\"pie\")"
   ]
  },
  {
   "cell_type": "code",
   "execution_count": 15,
   "id": "b6303b54",
   "metadata": {},
   "outputs": [
    {
     "data": {
      "text/plain": [
       "<AxesSubplot:xlabel='State'>"
      ]
     },
     "execution_count": 15,
     "metadata": {},
     "output_type": "execute_result"
    },
    {
     "data": {
      "image/png": "[encoded data removed]",
      "text/plain": [
       "<Figure size 432x288 with 1 Axes>"
      ]
     },
     "metadata": {
      "needs_background": "light"
     },
     "output_type": "display_data"
    }
   ],
   "source": [
    "states_group.plot(kind=\"bar\")"
   ]
  },
  {
   "cell_type": "markdown",
   "id": "b8d9d846",
   "metadata": {},
   "source": [
    "### From the pie chart and bar chart we can infer that Tamil Nadu has the maximum number of road accidents from the year 2015-2019, followed by Madhya Pradesh , Karnataka, Maharashtra amongst top 4."
   ]
  },
  {
   "cell_type": "code",
   "execution_count": 61,
   "id": "1e6c33fa",
   "metadata": {},
   "outputs": [
    {
     "data": {
      "text/plain": [
       "<AxesSubplot:xlabel='Year'>"
      ]
     },
     "execution_count": 61,
     "metadata": {},
     "output_type": "execute_result"
    },
    {
     "data": {
      "image/png": "[encoded data removed]",
      "text/plain": [
       "<Figure size 432x288 with 1 Axes>"
      ]
     },
     "metadata": {
      "needs_background": "light"
     },
     "output_type": "display_data"
    }
   ],
   "source": [
    "year_group.plot(kind='bar')"
   ]
  },
  {
   "cell_type": "markdown",
   "id": "83014ac9",
   "metadata": {},
   "source": [
    "### From the above bar chart we can infer that the number of road accidents have decreased over the years combinely in these 10 states from year 2015- 2019. But further we need to check what is the situation for each state individually."
   ]
  },
  {
   "cell_type": "code",
   "execution_count": 31,
   "id": "640d3bcd",
   "metadata": {
    "scrolled": true
   },
   "outputs": [
    {
     "data": {
      "text/plain": [
       "State           Year\n",
       "Bihar           2015     4.78\n",
       "                2016     5.48\n",
       "                2017     6.25\n",
       "                2018     7.36\n",
       "                2019     8.55\n",
       "Gujarat         2015    18.72\n",
       "                2016    20.36\n",
       "                2017    22.04\n",
       "                2018    23.82\n",
       "                2019    25.20\n",
       "Jharkhand       2015     2.07\n",
       "                2016     2.48\n",
       "                2017     3.29\n",
       "                2018     3.39\n",
       "                2019     3.39\n",
       "Karnataka       2015    14.79\n",
       "                2016    16.29\n",
       "                2017    17.87\n",
       "                2018    19.38\n",
       "                2019    21.07\n",
       "Madhya Pradesh  2015    11.14\n",
       "                2016    11.14\n",
       "                2017    13.20\n",
       "                2018    14.57\n",
       "                2019    15.30\n",
       "Maharashtra     2015    25.56\n",
       "                2016    27.87\n",
       "                2017    30.22\n",
       "                2018    32.85\n",
       "                2019    35.39\n",
       "Rajasthan       2015    12.38\n",
       "                2016    13.63\n",
       "                2017    14.90\n",
       "                2018    16.28\n",
       "                2019    17.71\n",
       "Tamil Nadu      2015    22.52\n",
       "                2016    24.20\n",
       "                2017    26.11\n",
       "                2018    28.04\n",
       "                2019    30.18\n",
       "Uttar Pradesh   2015    21.64\n",
       "                2016    23.94\n",
       "                2017    26.27\n",
       "                2018    29.40\n",
       "                2019    32.72\n",
       "West Bengal     2015     7.40\n",
       "                2016     7.45\n",
       "                2017     7.47\n",
       "                2018     7.50\n",
       "                2019     7.52\n",
       "Name: No of registered Vehicles(mn), dtype: float64"
      ]
     },
     "execution_count": 31,
     "metadata": {},
     "output_type": "execute_result"
    }
   ],
   "source": [
    "# We can see from the below table that the number of vehicles have increased over the years in each state.\n",
    "states_group1=df.groupby(['State','Year'])['No of registered Vehicles(mn)'].sum()\n",
    "states_group1  "
   ]
  },
  {
   "cell_type": "markdown",
   "id": "8e17461a",
   "metadata": {},
   "source": [
    "### Plotting the graph to check the change in number of registered vehicle in each state from 2015-2019"
   ]
  },
  {
   "cell_type": "code",
   "execution_count": 16,
   "id": "1567c5bc",
   "metadata": {},
   "outputs": [],
   "source": [
    "if isinstance(df, (pd.DatetimeIndex, pd.MultiIndex)):\n",
    "\tdf = df.to_frame(index=False)\n",
    "\n",
    "# remove any pre-existing indices for ease of use in the D-Tale code, but this is not required\n",
    "df = df.reset_index().drop('index', axis=1, errors='ignore')\n",
    "df.columns = [str(c) for c in df.columns]  # update columns to strings in case they are numbers\n",
    "\n",
    "chart_data = pd.concat([\n",
    "\tdf['State'],\n",
    "\tdf['No of registered Vehicles(mn)'],\n",
    "\tdf['Year'],\n",
    "], axis=1)"
   ]
  },
  {
   "cell_type": "code",
   "execution_count": 17,
   "id": "197ca9bf",
   "metadata": {},
   "outputs": [],
   "source": [
    "chart_data = chart_data.query(\"\"\"(Year == 2015) or (Year == 2016) or (Year == 2017) or (Year == 2018) or (Year == 2019)\"\"\")\n",
    "chart_data = chart_data.sort_values(['Year', 'State'])"
   ]
  },
  {
   "cell_type": "code",
   "execution_count": 18,
   "id": "a609afbb",
   "metadata": {},
   "outputs": [
    {
     "data": {
      "text/plain": [
       "<matplotlib.legend.Legend at 0x18934131dc0>"
      ]
     },
     "execution_count": 18,
     "metadata": {},
     "output_type": "execute_result"
    },
    {
     "data": {
      "image/png": "[encoded data removed]",
      "text/plain": [
       "<Figure size 1440x720 with 1 Axes>"
      ]
     },
     "metadata": {
      "needs_background": "light"
     },
     "output_type": "display_data"
    }
   ],
   "source": [
    "fig,ax = plt.subplots(figsize=(20, 10))\n",
    "sns.despine()\n",
    "sns.set_context(\"notebook\", font_scale=1.5, rc={\"lines.linewidth\": 2})\n",
    "\n",
    "sns.barplot(x=\"State\", y=\"No of registered Vehicles(mn)\", data=chart_data, hue='Year')\n",
    "ax.set_ylabel(ylabel = 'No of registered Vehicles(mn)', fontsize = 10)\n",
    "ax.set_xlabel(xlabel = 'state', fontsize = 10)\n",
    "ax.legend()"
   ]
  },
  {
   "cell_type": "markdown",
   "id": "b81f0e04",
   "metadata": {},
   "source": [
    "### From the above graph we can visualise that the number of vehicles are increasing each year in each state. The states with high GDP have higher number of vehicles registered.\n",
    "### As we have seen in above bar chart that the # accidents are max in Tamil Nadu, but Maharashtra has the max  #Vehicles registered. "
   ]
  },
  {
   "cell_type": "code",
   "execution_count": 19,
   "id": "9185e032",
   "metadata": {},
   "outputs": [],
   "source": [
    "import plotly.express as px\n",
    "plt.style.use('fivethirtyeight') #To remove the warning messages\n"
   ]
  },
  {
   "cell_type": "markdown",
   "id": "307addf7",
   "metadata": {},
   "source": [
    "### Plotting the graph to visualize the number of road accidents in each state from 2015-2019"
   ]
  },
  {
   "cell_type": "code",
   "execution_count": 20,
   "id": "642e9319",
   "metadata": {},
   "outputs": [],
   "source": [
    "if isinstance(df, (pd.DatetimeIndex, pd.MultiIndex)):\n",
    "\tdf = df.to_frame(index=False)\n",
    "\n",
    "# remove any pre-existing indices for ease of use in the D-Tale code, but this is not required\n",
    "df = df.reset_index().drop('index', axis=1, errors='ignore')\n",
    "df.columns = [str(c) for c in df.columns]  # update columns to strings in case they are numbers\n",
    "\n",
    "chart_data = pd.concat([\n",
    "\tdf['State'],\n",
    "\tdf['Accidents'],\n",
    "\tdf['Year'],\n",
    "], axis=1)"
   ]
  },
  {
   "cell_type": "code",
   "execution_count": 21,
   "id": "d4114900",
   "metadata": {},
   "outputs": [],
   "source": [
    "chart_data = chart_data.query(\"\"\"(Year == 2015) or (Year == 2016) or (Year == 2017) or (Year == 2018) or (Year == 2019)\"\"\")\n",
    "chart_data = chart_data.sort_values(['Year', 'State'])"
   ]
  },
  {
   "cell_type": "code",
   "execution_count": 59,
   "id": "492d9b20",
   "metadata": {
    "scrolled": true
   },
   "outputs": [
    {
     "data": {
      "text/plain": [
       "<matplotlib.legend.Legend at 0x19d799bdca0>"
      ]
     },
     "execution_count": 59,
     "metadata": {},
     "output_type": "execute_result"
    },
    {
     "data": {
      "image/png": "[encoded data removed]",
      "text/plain": [
       "<Figure size 1440x720 with 1 Axes>"
      ]
     },
     "metadata": {
      "needs_background": "light"
     },
     "output_type": "display_data"
    }
   ],
   "source": [
    "fig,ax = plt.subplots(figsize=(20, 10))\n",
    "sns.despine()\n",
    "sns.set_context(\"notebook\", font_scale=1.5, rc={\"lines.linewidth\": 2})\n",
    "\n",
    "sns.barplot(x=\"State\", y=\"Accidents\", data=chart_data, hue='Year')\n",
    "ax.set_ylabel(ylabel = 'Accidents', fontsize = 10)\n",
    "ax.set_xlabel(xlabel = 'state', fontsize = 10)\n",
    "ax.legend()"
   ]
  },
  {
   "cell_type": "markdown",
   "id": "73c15dbc",
   "metadata": {},
   "source": [
    "## Conclusion\n",
    "### From the above graphs we can visualise that the number of road accidents is not proportional to number of registered vehicles\n",
    "### In Tamil Nadu we can see that the vehicles are increasing over the period of 2015-2019, but we see that the number of road accidents are decreasing over the same period\n",
    "### We see a pattern that the #vehicles are increasing but the #accidents are decreasing in 8 states . Whereas in Uttar Pradesh and Bihar, the #accidents are increasing each year.\n",
    "### The possible reason for this could be due to infrastructure, road discipline and driving discipline being followed in each state.\n",
    "### I am taking a single state i.e Maharashtra to discuss about the changes and implementation that caused such a drastic decrease in road accidents over the year. The number of road accidents in Maharashtra has come down in the last three years due to “intelligent traffic management system” and steps taken to check over-speeding, the state’s highway police said.\n",
    "### The state recorded 39,878 road accidents in 2016, and the number dropped to 36,056 in 2017, 35,717 in 2018 and 32,925 in 2019. This happened beacause of the following reasons-\n",
    "a)The highway police had introduced the intelligent traffic management system on the Mumbai-Pune Expressway.As a result, the number of fatal accidents reduced on the expressway from 96 in 2018 to 74 last year,\" the official addded.\n",
    "\n",
    "b)The official further said the number of “black spots” also reduced to 1,000 from 1,050 as a result of corrective measures taken by the highway police. \"This helped the police in making roads safer for users.\n",
    "\n",
    "c)To check over-speeding, 96 interceptor vehicles armed with speed guns were distributed to various police units across the state last year\n",
    "(Source- https://www.outlookindia.com/website/story/india-news-maharashtra-records-a-dip-in-road-accidents-in-last-three-years/362440 )"
   ]
  },
  {
   "cell_type": "markdown",
   "id": "eeca1a52",
   "metadata": {},
   "source": [
    "## Future prospect\n",
    "\n",
    "### In further development of the project ,State wise we will determine the relation between factors which led to number of accidents, states seeing a fall in #accidents, states seeing a rise in number of accidents."
   ]
  },
  {
   "cell_type": "code",
   "execution_count": null,
   "id": "c3d337d9",
   "metadata": {},
   "outputs": [],
   "source": []
  }
 ],
 "metadata": {
  "kernelspec": {
   "display_name": "Python 3 (ipykernel)",
   "language": "python",
   "name": "python3"
  },
  "language_info": {
   "codemirror_mode": {
    "name": "ipython",
    "version": 3
   },
   "file_extension": ".py",
   "mimetype": "text/x-python",
   "name": "python",
   "nbconvert_exporter": "python",
   "pygments_lexer": "ipython3",
   "version": "3.9.12"
  }
 },
 "nbformat": 4,
 "nbformat_minor": 5
}
